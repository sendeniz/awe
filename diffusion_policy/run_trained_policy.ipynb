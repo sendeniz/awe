{
 "cells": [
  {
   "cell_type": "code",
   "execution_count": 1,
   "metadata": {},
   "outputs": [
    {
     "name": "stderr",
     "output_type": "stream",
     "text": [
      "/home/sen/anaconda3/envs/robodiff/lib/python3.9/site-packages/tqdm/auto.py:22: TqdmWarning: IProgress not found. Please update jupyter and ipywidgets. See https://ipywidgets.readthedocs.io/en/stable/user_install.html\n",
      "  from .autonotebook import tqdm as notebook_tqdm\n"
     ]
    },
    {
     "name": "stdout",
     "output_type": "stream",
     "text": [
      "WARNING: could not load d4rl environments!\n"
     ]
    }
   ],
   "source": [
    "import argparse\n",
    "import json\n",
    "import h5py\n",
    "import imageio\n",
    "import numpy as np\n",
    "import os\n",
    "from copy import deepcopy\n",
    "import pprint\n",
    "\n",
    "import torch\n",
    "\n",
    "import robomimic\n",
    "import robomimic.utils.file_utils as FileUtils\n",
    "import robomimic.utils.torch_utils as TorchUtils\n",
    "import robomimic.utils.tensor_utils as TensorUtils\n",
    "import robomimic.utils.obs_utils as ObsUtils\n",
    "from robomimic.envs.env_base import EnvBase\n",
    "from robomimic.algo import RolloutPolicy\n",
    "\n",
    "from robomimic.envs.env_gym import EnvGym\n",
    "import robosuite as suite\n",
    "\n",
    "from robosuite.wrappers import GymWrapper\n",
    "from robosuite.controllers import load_controller_config\n",
    "import matplotlib.pyplot as plt\n",
    "\n",
    "import urllib.request\n",
    "\n",
    "from diffusion_policy.policy.diffusion_transformer_lowdim_policy import DiffusionTransformerLowdimPolicy\n",
    "import hydra\n",
    "from omegaconf import OmegaConf\n",
    "\n",
    "from diffusion_policy.policy.diffusion_transformer_hybrid_image_policy import DiffusionTransformerHybridImagePolicy\n",
    "from diffusers.schedulers.scheduling_ddpm import DDPMScheduler\n",
    "from diffusion_policy.model.diffusion.ema_model import EMAModel\n",
    "\n",
    "from diffusion_policy.env_runner.base_image_runner import BaseImageRunner\n",
    "import os\n",
    "import json\n",
    "import cv2\n",
    "\n",
    "\n",
    "device = torch.device(\"cuda\" if torch.cuda.is_available() else \"cpu\")\n"
   ]
  },
  {
   "cell_type": "markdown",
   "metadata": {},
   "source": [
    "### Load checkpoint"
   ]
  },
  {
   "cell_type": "code",
   "execution_count": 2,
   "metadata": {},
   "outputs": [
    {
     "name": "stdout",
     "output_type": "stream",
     "text": [
      "/home/sen/Desktop/awe\n"
     ]
    }
   ],
   "source": [
    "cd .."
   ]
  },
  {
   "cell_type": "code",
   "execution_count": 3,
   "metadata": {},
   "outputs": [],
   "source": [
    "# task can be lift, square or can\n",
    "task = \"lift\" \n",
    "ckpt_path = f\"ckpts/{task}_diffusion.ckpt\"\n",
    "ckpt = torch.load(ckpt_path, map_location=device)\n",
    "assert os.path.exists(ckpt_path)"
   ]
  },
  {
   "cell_type": "markdown",
   "metadata": {},
   "source": [
    "### Load config"
   ]
  },
  {
   "cell_type": "code",
   "execution_count": 4,
   "metadata": {},
   "outputs": [
    {
     "name": "stdout",
     "output_type": "stream",
     "text": [
      "\n",
      "============= Initialized Observation Utils with Obs Spec =============\n",
      "\n",
      "using obs modality: low_dim with keys: ['robot0_gripper_qpos', 'robot0_eef_quat', 'robot0_eef_pos']\n",
      "using obs modality: rgb with keys: ['agentview_image', 'robot0_eye_in_hand_image']\n",
      "using obs modality: depth with keys: []\n",
      "using obs modality: scan with keys: []\n"
     ]
    },
    {
     "name": "stderr",
     "output_type": "stream",
     "text": [
      "/home/sen/anaconda3/envs/robodiff/lib/python3.9/site-packages/torchvision/models/_utils.py:208: UserWarning: The parameter 'pretrained' is deprecated since 0.13 and will be removed in 0.15, please use 'weights' instead.\n",
      "  warnings.warn(\n",
      "/home/sen/anaconda3/envs/robodiff/lib/python3.9/site-packages/torchvision/models/_utils.py:223: UserWarning: Arguments other than a weight enum or `None` for 'weights' are deprecated since 0.13 and will be removed in 0.15. The current behavior is equivalent to passing `weights=None`.\n",
      "  warnings.warn(msg)\n"
     ]
    },
    {
     "name": "stdout",
     "output_type": "stream",
     "text": [
      "Model is initialized and ready for evaluation.\n"
     ]
    }
   ],
   "source": [
    "# Load the YAML configuration using OmegaConf\n",
    "# You can use either a) awe + diffusion policy transformer \n",
    "# or b) diffusion poluciy transformer without awe \n",
    "# a) uses \"config/waypoint_image_can_ph_diffusion_policy_transformer.yaml\"\n",
    "# b) uses \"config/baseline_image_can_ph_diffusion_policy_transformer.yaml\"\n",
    "\n",
    "cfg = OmegaConf.load(f\"config/waypoint_image_{task}_ph_diffusion_policy_transformer.yaml\")\n",
    "\n",
    "OmegaConf.register_new_resolver(\"eval\", eval, replace=True)\n",
    "# Resolve variables like ${horizon}\n",
    "cfg = OmegaConf.to_container(cfg, resolve=True) \n",
    "\n",
    "policy_cfg = cfg[\"policy\"]\n",
    "\n",
    "# Create Noise Scheduler\n",
    "noise_scheduler = DDPMScheduler(\n",
    "    num_train_timesteps=policy_cfg[\"noise_scheduler\"][\"num_train_timesteps\"],\n",
    "    beta_start=policy_cfg[\"noise_scheduler\"][\"beta_start\"],\n",
    "    beta_end=policy_cfg[\"noise_scheduler\"][\"beta_end\"],\n",
    "    beta_schedule=policy_cfg[\"noise_scheduler\"][\"beta_schedule\"],\n",
    "    variance_type=policy_cfg[\"noise_scheduler\"][\"variance_type\"],\n",
    "    clip_sample=policy_cfg[\"noise_scheduler\"][\"clip_sample\"],\n",
    "    prediction_type=policy_cfg[\"noise_scheduler\"][\"prediction_type\"],\n",
    ")\n",
    "\n",
    "# Initialize the policy\n",
    "policy = DiffusionTransformerHybridImagePolicy(\n",
    "    shape_meta=policy_cfg[\"shape_meta\"],\n",
    "    noise_scheduler=noise_scheduler,\n",
    "    horizon=int(policy_cfg[\"horizon\"]),  # Ensure it's an integer\n",
    "    n_action_steps=int(policy_cfg[\"n_action_steps\"]),\n",
    "    n_obs_steps=int(policy_cfg[\"n_obs_steps\"]),\n",
    "    num_inference_steps=int(policy_cfg[\"num_inference_steps\"]),\n",
    "    crop_shape=tuple(map(int, policy_cfg[\"crop_shape\"])),  # Convert tuple elements to int\n",
    "    obs_encoder_group_norm=policy_cfg[\"obs_encoder_group_norm\"],\n",
    "    eval_fixed_crop=policy_cfg[\"eval_fixed_crop\"],\n",
    "    n_layer=int(policy_cfg[\"n_layer\"]),\n",
    "    n_cond_layers=int(policy_cfg[\"n_cond_layers\"]),\n",
    "    n_head=int(policy_cfg[\"n_head\"]),\n",
    "    n_emb=int(policy_cfg[\"n_emb\"]),\n",
    "    p_drop_emb=float(policy_cfg[\"p_drop_emb\"]),  # Ensure float conversion\n",
    "    p_drop_attn=float(policy_cfg[\"p_drop_attn\"]),\n",
    "    causal_attn=policy_cfg[\"causal_attn\"],\n",
    "    time_as_cond=policy_cfg[\"time_as_cond\"],\n",
    "    obs_as_cond=policy_cfg[\"obs_as_cond\"],\n",
    ")\n",
    "\n",
    "# Set to evaluation mode\n",
    "policy.eval()\n",
    "\n",
    "# load state dict from checkpoint\n",
    "policy.load_state_dict(ckpt[\"state_dicts\"][\"ema_model\"])\n",
    "\n",
    "# Move to GPU if available\n",
    "device = torch.device(\"cuda\" if torch.cuda.is_available() else \"cpu\")\n",
    "policy.to(device)\n",
    "\n",
    "print(\"Model is initialized and ready for evaluation.\")\n"
   ]
  },
  {
   "cell_type": "markdown",
   "metadata": {},
   "source": [
    "### Visualise Rollout\n",
    "Note that changes are made in robomimic_image_runner.py \n",
    "Controller values for example are rewritten there"
   ]
  },
  {
   "cell_type": "code",
   "execution_count": 10,
   "metadata": {},
   "outputs": [],
   "source": [
    "cfg[\"task\"][\"env_runner\"][\"controller_configs\"][\"kp\"] = 1000 \n",
    "cfg[\"task\"][\"env_runner\"][\"controller_configs\"][\"kp_limits\"] = [0, 2000]\n",
    "cfg[\"task\"][\"env_runner\"][\"controller_configs\"][\"damping_limits\"] = [0, 60]\n"
   ]
  },
  {
   "cell_type": "code",
   "execution_count": 5,
   "metadata": {},
   "outputs": [
    {
     "name": "stdout",
     "output_type": "stream",
     "text": [
      "150\n",
      "150\n",
      "env_meta {'env_name': 'Lift', 'type': 1, 'env_kwargs': {'has_renderer': False, 'has_offscreen_renderer': True, 'ignore_done': True, 'use_object_obs': False, 'use_camera_obs': True, 'control_freq': 20, 'controller_configs': {'type': 'OSC_POSE', 'input_max': 1, 'input_min': -1, 'output_max': [0.05, 0.05, 0.05, 0.5, 0.5, 0.5], 'output_min': [-0.05, -0.05, -0.05, -0.5, -0.5, -0.5], 'kp': 150, 'damping': 1, 'impedance_mode': 'fixed', 'kp_limits': [0, 300], 'damping_limits': [0, 10], 'position_limits': None, 'orientation_limits': None, 'uncouple_pos_ori': True, 'control_delta': False, 'interpolation': None, 'ramp_ratio': 0.2}, 'robots': ['Panda'], 'camera_depths': False, 'camera_heights': 84, 'camera_widths': 84, 'reward_shaping': False, 'camera_names': ['agentview', 'robot0_eye_in_hand'], 'render_gpu_device_id': 0}}\n",
      "Created environment with name Lift\n",
      "Action size is 7\n",
      "Found 2 GPUs for rendering. Using device 1.\n",
      "Created environment with name Lift\n",
      "Action size is 7\n",
      "Lift\n"
     ]
    }
   ],
   "source": [
    "cfg[\"task\"][\"env_runner\"][\"n_envs\"] = 1  # Set num_envs to 1\n",
    "cfg[\"task\"][\"env_runner\"][\"n_test_vis\"] = 0 # visualise 1 test\n",
    "cfg[\"task\"][\"env_runner\"][\"n_test\"] = 1 # 1 test\n",
    "env_runner = hydra.utils.instantiate(cfg[\"task\"][\"env_runner\"], output_dir=\"\")\n",
    "# run roll out and save vid \n",
    "#env_runner.run(policy)"
   ]
  }
 ],
 "metadata": {
  "kernelspec": {
   "display_name": "robodiff",
   "language": "python",
   "name": "python3"
  },
  "language_info": {
   "codemirror_mode": {
    "name": "ipython",
    "version": 3
   },
   "file_extension": ".py",
   "mimetype": "text/x-python",
   "name": "python",
   "nbconvert_exporter": "python",
   "pygments_lexer": "ipython3",
   "version": "3.9.18"
  }
 },
 "nbformat": 4,
 "nbformat_minor": 2
}
