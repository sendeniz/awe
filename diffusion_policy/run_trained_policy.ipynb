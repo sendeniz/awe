{
 "cells": [
  {
   "cell_type": "code",
   "execution_count": 1,
   "metadata": {},
   "outputs": [
    {
     "name": "stderr",
     "output_type": "stream",
     "text": [
      "/home/sen/anaconda3/envs/robodiff/lib/python3.9/site-packages/tqdm/auto.py:22: TqdmWarning: IProgress not found. Please update jupyter and ipywidgets. See https://ipywidgets.readthedocs.io/en/stable/user_install.html\n",
      "  from .autonotebook import tqdm as notebook_tqdm\n"
     ]
    },
    {
     "name": "stdout",
     "output_type": "stream",
     "text": [
      "WARNING: could not load d4rl environments!\n"
     ]
    }
   ],
   "source": [
    "import argparse\n",
    "import json\n",
    "import h5py\n",
    "import imageio\n",
    "import numpy as np\n",
    "import os\n",
    "from copy import deepcopy\n",
    "\n",
    "import torch\n",
    "\n",
    "import robomimic\n",
    "import robomimic.utils.file_utils as FileUtils\n",
    "import robomimic.utils.torch_utils as TorchUtils\n",
    "import robomimic.utils.tensor_utils as TensorUtils\n",
    "import robomimic.utils.obs_utils as ObsUtils\n",
    "from robomimic.envs.env_base import EnvBase\n",
    "from robomimic.algo import RolloutPolicy\n",
    "\n",
    "from robomimic.envs.env_gym import EnvGym\n",
    "import robosuite as suite\n",
    "\n",
    "from robosuite.wrappers import GymWrapper\n",
    "from robosuite.controllers import load_controller_config\n",
    "import matplotlib.pyplot as plt\n",
    "\n",
    "import urllib.request\n",
    "\n",
    "from diffusion_policy.policy.diffusion_transformer_lowdim_policy import DiffusionTransformerLowdimPolicy\n",
    "import hydra\n",
    "from omegaconf import OmegaConf\n",
    "\n",
    "from diffusion_policy.policy.diffusion_transformer_hybrid_image_policy import DiffusionTransformerHybridImagePolicy\n",
    "from diffusers.schedulers.scheduling_ddpm import DDPMScheduler\n",
    "from diffusion_policy.model.diffusion.ema_model import EMAModel\n",
    "\n",
    "from diffusion_policy.env_runner.base_image_runner import BaseImageRunner\n",
    "import os\n",
    "import json\n",
    "import cv2\n",
    "\n",
    "\n",
    "device = torch.device(\"cuda\" if torch.cuda.is_available() else \"cpu\")\n"
   ]
  },
  {
   "cell_type": "markdown",
   "metadata": {},
   "source": [
    "### Load checkpoint"
   ]
  },
  {
   "cell_type": "code",
   "execution_count": 2,
   "metadata": {},
   "outputs": [
    {
     "name": "stdout",
     "output_type": "stream",
     "text": [
      "/home/sen/Desktop/awe\n"
     ]
    }
   ],
   "source": [
    "cd .."
   ]
  },
  {
   "cell_type": "code",
   "execution_count": 3,
   "metadata": {},
   "outputs": [],
   "source": [
    "ckpt_path = \"ckpts/latest.ckpt\"\n",
    "ckpt = torch.load(ckpt_path, map_location=device)\n",
    "assert os.path.exists(ckpt_path)"
   ]
  },
  {
   "cell_type": "markdown",
   "metadata": {},
   "source": [
    "### Load config"
   ]
  },
  {
   "cell_type": "code",
   "execution_count": 4,
   "metadata": {},
   "outputs": [
    {
     "name": "stdout",
     "output_type": "stream",
     "text": [
      "\n",
      "============= Initialized Observation Utils with Obs Spec =============\n",
      "\n",
      "using obs modality: low_dim with keys: ['robot0_eef_pos', 'robot0_eef_quat', 'robot0_gripper_qpos']\n",
      "using obs modality: rgb with keys: ['robot0_eye_in_hand_image', 'agentview_image']\n",
      "using obs modality: depth with keys: []\n",
      "using obs modality: scan with keys: []\n"
     ]
    },
    {
     "name": "stderr",
     "output_type": "stream",
     "text": [
      "/home/sen/anaconda3/envs/robodiff/lib/python3.9/site-packages/torchvision/models/_utils.py:208: UserWarning: The parameter 'pretrained' is deprecated since 0.13 and will be removed in 0.15, please use 'weights' instead.\n",
      "  warnings.warn(\n",
      "/home/sen/anaconda3/envs/robodiff/lib/python3.9/site-packages/torchvision/models/_utils.py:223: UserWarning: Arguments other than a weight enum or `None` for 'weights' are deprecated since 0.13 and will be removed in 0.15. The current behavior is equivalent to passing `weights=None`.\n",
      "  warnings.warn(msg)\n"
     ]
    },
    {
     "name": "stdout",
     "output_type": "stream",
     "text": [
      "Model is initialized and ready for evaluation.\n"
     ]
    }
   ],
   "source": [
    "\n",
    "# Load the YAML configuration using OmegaConf\n",
    "cfg = OmegaConf.load(\"config/waypoint_image_can_ph_diffusion_policy_transformer.yaml\")\n",
    "OmegaConf.register_new_resolver(\"eval\", eval, replace=True)\n",
    "# Resolve variables like ${horizon}\n",
    "cfg = OmegaConf.to_container(cfg, resolve=True)  # Now it replaces ${horizon} with its actual value\n",
    "\n",
    "policy_cfg = cfg[\"policy\"]  # Now it should have resolved values\n",
    "\n",
    "\n",
    "# Create Noise Scheduler\n",
    "noise_scheduler = DDPMScheduler(\n",
    "    num_train_timesteps=policy_cfg[\"noise_scheduler\"][\"num_train_timesteps\"],\n",
    "    beta_start=policy_cfg[\"noise_scheduler\"][\"beta_start\"],\n",
    "    beta_end=policy_cfg[\"noise_scheduler\"][\"beta_end\"],\n",
    "    beta_schedule=policy_cfg[\"noise_scheduler\"][\"beta_schedule\"],\n",
    "    variance_type=policy_cfg[\"noise_scheduler\"][\"variance_type\"],\n",
    "    clip_sample=policy_cfg[\"noise_scheduler\"][\"clip_sample\"],\n",
    "    prediction_type=policy_cfg[\"noise_scheduler\"][\"prediction_type\"],\n",
    ")\n",
    "\n",
    "# Initialize the policy\n",
    "policy = DiffusionTransformerHybridImagePolicy(\n",
    "    shape_meta=policy_cfg[\"shape_meta\"],\n",
    "    noise_scheduler=noise_scheduler,\n",
    "    horizon=int(policy_cfg[\"horizon\"]),  # Ensure it's an integer\n",
    "    n_action_steps=int(policy_cfg[\"n_action_steps\"]),\n",
    "    n_obs_steps=int(policy_cfg[\"n_obs_steps\"]),\n",
    "    num_inference_steps=int(policy_cfg[\"num_inference_steps\"]),\n",
    "    crop_shape=tuple(map(int, policy_cfg[\"crop_shape\"])),  # Convert tuple elements to int\n",
    "    obs_encoder_group_norm=policy_cfg[\"obs_encoder_group_norm\"],\n",
    "    eval_fixed_crop=policy_cfg[\"eval_fixed_crop\"],\n",
    "    n_layer=int(policy_cfg[\"n_layer\"]),\n",
    "    n_cond_layers=int(policy_cfg[\"n_cond_layers\"]),\n",
    "    n_head=int(policy_cfg[\"n_head\"]),\n",
    "    n_emb=int(policy_cfg[\"n_emb\"]),\n",
    "    p_drop_emb=float(policy_cfg[\"p_drop_emb\"]),  # Ensure float conversion\n",
    "    p_drop_attn=float(policy_cfg[\"p_drop_attn\"]),\n",
    "    causal_attn=policy_cfg[\"causal_attn\"],\n",
    "    time_as_cond=policy_cfg[\"time_as_cond\"],\n",
    "    obs_as_cond=policy_cfg[\"obs_as_cond\"],\n",
    ")\n",
    "\n",
    "\n",
    "# Set to evaluation mode\n",
    "policy.eval()\n",
    "\n",
    "# (Optional) Load checkpoint\n",
    "checkpoint_path = \"ckpts/latest.ckpt\"\n",
    "checkpoint = torch.load(checkpoint_path, map_location=\"cuda\" if torch.cuda.is_available() else \"cpu\")\n",
    "policy.load_state_dict(checkpoint[\"state_dicts\"][\"ema_model\"])\n",
    "\n",
    "# Move to GPU if available\n",
    "device = torch.device(\"cuda\" if torch.cuda.is_available() else \"cpu\")\n",
    "policy.to(device)\n",
    "\n",
    "print(\"Model is initialized and ready for evaluation.\")\n"
   ]
  },
  {
   "cell_type": "markdown",
   "metadata": {},
   "source": [
    "### Test model: Pass fake input through model"
   ]
  },
  {
   "cell_type": "code",
   "execution_count": 5,
   "metadata": {},
   "outputs": [
    {
     "data": {
      "text/plain": [
       "'\\n# Define batch size and number of observation steps\\nbatch_size = 30  \\nn_obs_steps = policy.n_obs_steps  # Extract from model\\n\\n# Define the observation structure\\nshape_meta = policy_cfg[\"shape_meta\"]\\n\\n# Generate Fake Observations (WITHOUT \"obs\" wrapper)\\nfake_obs = {\\n    key: torch.randn(batch_size, n_obs_steps, *attr[\"shape\"]).to(policy.device)\\n    for key, attr in shape_meta[\"obs\"].items()\\n}\\n\\n# Use the correct structure (no \"obs\" key)\\nobs_dict = fake_obs\\n\\n# Run the model on fake data\\nresult = policy.predict_action(obs_dict)\\n\\n# Print the output\\nprint(\"Fake Data Passed to Model.\")\\nprint(\"Action Shape:\", result[\"action\"].shape)\\nprint(\"Predicted Action Shape:\", result[\"action_pred\"].shape)\\nprint(\"Predicted Action:\", result[\"action\"])\\n\\n'"
      ]
     },
     "execution_count": 5,
     "metadata": {},
     "output_type": "execute_result"
    }
   ],
   "source": [
    "\"\"\"\n",
    "# Define batch size and number of observation steps\n",
    "batch_size = 30  \n",
    "n_obs_steps = policy.n_obs_steps  # Extract from model\n",
    "\n",
    "# Define the observation structure\n",
    "shape_meta = policy_cfg[\"shape_meta\"]\n",
    "\n",
    "# Generate Fake Observations (WITHOUT \"obs\" wrapper)\n",
    "fake_obs = {\n",
    "    key: torch.randn(batch_size, n_obs_steps, *attr[\"shape\"]).to(policy.device)\n",
    "    for key, attr in shape_meta[\"obs\"].items()\n",
    "}\n",
    "\n",
    "# Use the correct structure (no \"obs\" key)\n",
    "obs_dict = fake_obs\n",
    "\n",
    "# Run the model on fake data\n",
    "result = policy.predict_action(obs_dict)\n",
    "\n",
    "# Print the output\n",
    "print(\"Fake Data Passed to Model.\")\n",
    "print(\"Action Shape:\", result[\"action\"].shape)\n",
    "print(\"Predicted Action Shape:\", result[\"action_pred\"].shape)\n",
    "print(\"Predicted Action:\", result[\"action\"])\n",
    "\n",
    "\"\"\""
   ]
  },
  {
   "cell_type": "code",
   "execution_count": 6,
   "metadata": {},
   "outputs": [
    {
     "data": {
      "text/plain": [
       "'\\n# Load the environment runner from the config\\ncfg[\"task\"][\"env_runner\"][\"n_envs\"] = 1  # Set num_envs to 1\\nenv_runner = hydra.utils.instantiate(cfg[\"task\"][\"env_runner\"], output_dir=\"rollout_outputs\")\\n'"
      ]
     },
     "execution_count": 6,
     "metadata": {},
     "output_type": "execute_result"
    }
   ],
   "source": [
    "\"\"\"\n",
    "# Load the environment runner from the config\n",
    "cfg[\"task\"][\"env_runner\"][\"n_envs\"] = 1  # Set num_envs to 1\n",
    "env_runner = hydra.utils.instantiate(cfg[\"task\"][\"env_runner\"], output_dir=\"rollout_outputs\")\n",
    "\"\"\""
   ]
  },
  {
   "cell_type": "markdown",
   "metadata": {},
   "source": [
    "### Visualise view of env without taking action"
   ]
  },
  {
   "cell_type": "code",
   "execution_count": 7,
   "metadata": {},
   "outputs": [
    {
     "data": {
      "text/plain": [
       "'\\nobs = env_runner.env.reset()\\nprint(\"Observation keys:\", obs.keys())\\n\\n# Check if images are available\\nif \"agentview_image\" in obs:\\n\\n    img = obs[\"agentview_image\"][0, -1]  # Extract agent view image\\n    print(img.shape)\\n    img = np.transpose(img, (1, 2, 0))  # Convert from (C, H, W) to (H, W, C)\\n    \\n    plt.imshow(img)\\n    plt.axis(\"off\")\\n    plt.title(\"Agent View Image from Observation\")\\n    plt.show()\\n'"
      ]
     },
     "execution_count": 7,
     "metadata": {},
     "output_type": "execute_result"
    }
   ],
   "source": [
    "\"\"\"\n",
    "obs = env_runner.env.reset()\n",
    "print(\"Observation keys:\", obs.keys())\n",
    "\n",
    "# Check if images are available\n",
    "if \"agentview_image\" in obs:\n",
    "\n",
    "    img = obs[\"agentview_image\"][0, -1]  # Extract agent view image\n",
    "    print(img.shape)\n",
    "    img = np.transpose(img, (1, 2, 0))  # Convert from (C, H, W) to (H, W, C)\n",
    "    \n",
    "    plt.imshow(img)\n",
    "    plt.axis(\"off\")\n",
    "    plt.title(\"Agent View Image from Observation\")\n",
    "    plt.show()\n",
    "\"\"\""
   ]
  },
  {
   "cell_type": "markdown",
   "metadata": {},
   "source": [
    "### Visualise Rollout"
   ]
  },
  {
   "cell_type": "code",
   "execution_count": null,
   "metadata": {},
   "outputs": [
    {
     "name": "stdout",
     "output_type": "stream",
     "text": [
      "env_meta {'env_name': 'PickPlaceCan', 'type': 1, 'env_kwargs': {'has_renderer': False, 'has_offscreen_renderer': True, 'ignore_done': True, 'use_object_obs': False, 'use_camera_obs': True, 'control_freq': 20, 'controller_configs': {'type': 'OSC_POSE', 'input_max': 1, 'input_min': -1, 'output_max': [0.05, 0.05, 0.05, 0.5, 0.5, 0.5], 'output_min': [-0.05, -0.05, -0.05, -0.5, -0.5, -0.5], 'kp': 150, 'damping': 1, 'impedance_mode': 'fixed', 'kp_limits': [0, 300], 'damping_limits': [0, 10], 'position_limits': None, 'orientation_limits': None, 'uncouple_pos_ori': True, 'control_delta': False, 'interpolation': None, 'ramp_ratio': 0.2}, 'robots': ['Panda'], 'camera_depths': False, 'camera_heights': 84, 'camera_widths': 84, 'reward_shaping': False, 'camera_names': ['agentview', 'robot0_eye_in_hand'], 'render_gpu_device_id': 0}}\n",
      "Created environment with name PickPlaceCan\n",
      "Action size is 7\n",
      "Created environment with name PickPlaceCan\n",
      "Action size is 7\n",
      "Processed image shape: (3, 84, 84)\n",
      "Processed image shape: (3, 84, 84)\n"
     ]
    },
    {
     "name": "stderr",
     "output_type": "stream",
     "text": [
      "Eval PickPlaceCanImage 1/50:   0%|          | 0/200 [00:00<?, ?it/s]"
     ]
    },
    {
     "name": "stdout",
     "output_type": "stream",
     "text": [
      "Processed image shape: (3, 84, 84)\n",
      "Processed image shape: (3, 84, 84)\n",
      "Processed image shape: (3, 84, 84)\n",
      "Processed image shape: (3, 84, 84)\n",
      "Processed image shape: (3, 84, 84)\n",
      "Processed image shape: (3, 84, 84)\n",
      "Processed image shape: (3, 84, 84)\n",
      "Processed image shape: (3, 84, 84)\n",
      "Processed image shape: (3, 84, 84)\n",
      "Processed image shape: (3, 84, 84)\n",
      "Processed image shape: (3, 84, 84)\n",
      "Processed image shape: (3, 84, 84)\n",
      "Processed image shape: (3, 84, 84)\n",
      "Processed image shape: (3, 84, 84)\n",
      "Processed image shape: (3, 84, 84)\n",
      "Processed image shape: (3, 84, 84)\n"
     ]
    },
    {
     "name": "stderr",
     "output_type": "stream",
     "text": [
      "Eval PickPlaceCanImage 1/50:   4%|▍         | 8/200 [00:01<00:42,  4.48it/s]"
     ]
    },
    {
     "name": "stdout",
     "output_type": "stream",
     "text": [
      "Processed image shape: (3, 84, 84)\n",
      "Processed image shape: (3, 84, 84)\n",
      "Processed image shape: (3, 84, 84)\n",
      "Processed image shape: (3, 84, 84)\n",
      "Processed image shape: (3, 84, 84)\n",
      "Processed image shape: (3, 84, 84)\n",
      "Processed image shape: (3, 84, 84)\n",
      "Processed image shape: (3, 84, 84)\n",
      "Processed image shape: (3, 84, 84)\n",
      "Processed image shape: (3, 84, 84)\n",
      "Processed image shape: (3, 84, 84)\n",
      "Processed image shape: (3, 84, 84)\n",
      "Processed image shape: (3, 84, 84)\n",
      "Processed image shape: (3, 84, 84)\n",
      "Processed image shape: (3, 84, 84)\n",
      "Processed image shape: (3, 84, 84)\n"
     ]
    },
    {
     "name": "stderr",
     "output_type": "stream",
     "text": [
      "Eval PickPlaceCanImage 1/50:   8%|▊         | 16/200 [00:03<00:41,  4.44it/s]"
     ]
    },
    {
     "name": "stdout",
     "output_type": "stream",
     "text": [
      "Processed image shape: (3, 84, 84)\n",
      "Processed image shape: (3, 84, 84)\n",
      "Processed image shape: (3, 84, 84)\n",
      "Processed image shape: (3, 84, 84)\n",
      "Processed image shape: (3, 84, 84)\n",
      "Processed image shape: (3, 84, 84)\n",
      "Processed image shape: (3, 84, 84)\n",
      "Processed image shape: (3, 84, 84)\n",
      "Processed image shape: (3, 84, 84)\n",
      "Processed image shape: (3, 84, 84)\n",
      "Processed image shape: (3, 84, 84)\n",
      "Processed image shape: (3, 84, 84)\n",
      "Processed image shape: (3, 84, 84)\n",
      "Processed image shape: (3, 84, 84)\n",
      "Processed image shape: (3, 84, 84)\n",
      "Processed image shape: (3, 84, 84)\n"
     ]
    },
    {
     "name": "stderr",
     "output_type": "stream",
     "text": [
      "Eval PickPlaceCanImage 1/50:  12%|█▏        | 24/200 [00:05<00:39,  4.51it/s]"
     ]
    },
    {
     "name": "stdout",
     "output_type": "stream",
     "text": [
      "Processed image shape: (3, 84, 84)\n",
      "Processed image shape: (3, 84, 84)\n"
     ]
    },
    {
     "ename": "KeyboardInterrupt",
     "evalue": "",
     "output_type": "error",
     "traceback": [
      "\u001b[0;31m---------------------------------------------------------------------------\u001b[0m",
      "\u001b[0;31mKeyboardInterrupt\u001b[0m                         Traceback (most recent call last)",
      "Cell \u001b[0;32mIn[8], line 6\u001b[0m\n\u001b[1;32m      4\u001b[0m env_runner \u001b[38;5;241m=\u001b[39m hydra\u001b[38;5;241m.\u001b[39mutils\u001b[38;5;241m.\u001b[39minstantiate(cfg[\u001b[38;5;124m\"\u001b[39m\u001b[38;5;124mtask\u001b[39m\u001b[38;5;124m\"\u001b[39m][\u001b[38;5;124m\"\u001b[39m\u001b[38;5;124menv_runner\u001b[39m\u001b[38;5;124m\"\u001b[39m], output_dir\u001b[38;5;241m=\u001b[39m\u001b[38;5;124m\"\u001b[39m\u001b[38;5;124mrollout_outputs\u001b[39m\u001b[38;5;124m\"\u001b[39m)\n\u001b[1;32m      5\u001b[0m \u001b[38;5;66;03m# run roll out and save vid \u001b[39;00m\n\u001b[0;32m----> 6\u001b[0m \u001b[43menv_runner\u001b[49m\u001b[38;5;241;43m.\u001b[39;49m\u001b[43mrun\u001b[49m\u001b[43m(\u001b[49m\u001b[43mpolicy\u001b[49m\u001b[43m)\u001b[49m\n",
      "File \u001b[0;32m~/Desktop/awe/diffusion_policy/diffusion_policy/env_runner/robomimic_image_runner.py:324\u001b[0m, in \u001b[0;36mRobomimicImageRunner.run\u001b[0;34m(self, policy)\u001b[0m\n\u001b[1;32m    321\u001b[0m \u001b[38;5;28;01mif\u001b[39;00m \u001b[38;5;28mself\u001b[39m\u001b[38;5;241m.\u001b[39mabs_action:\n\u001b[1;32m    322\u001b[0m     env_action \u001b[38;5;241m=\u001b[39m \u001b[38;5;28mself\u001b[39m\u001b[38;5;241m.\u001b[39mundo_transform_action(action)\n\u001b[0;32m--> 324\u001b[0m obs, reward, done, info \u001b[38;5;241m=\u001b[39m \u001b[43menv\u001b[49m\u001b[38;5;241;43m.\u001b[39;49m\u001b[43mstep\u001b[49m\u001b[43m(\u001b[49m\u001b[43menv_action\u001b[49m\u001b[43m)\u001b[49m\n\u001b[1;32m    325\u001b[0m done \u001b[38;5;241m=\u001b[39m np\u001b[38;5;241m.\u001b[39mall(done)\n\u001b[1;32m    326\u001b[0m past_action \u001b[38;5;241m=\u001b[39m action\n",
      "File \u001b[0;32m~/anaconda3/envs/robodiff/lib/python3.9/site-packages/gym/vector/vector_env.py:94\u001b[0m, in \u001b[0;36mVectorEnv.step\u001b[0;34m(self, actions)\u001b[0m\n\u001b[1;32m     71\u001b[0m \u001b[38;5;250m\u001b[39m\u001b[38;5;124mr\u001b[39m\u001b[38;5;124;03m\"\"\"Take an action for each sub-environments.\u001b[39;00m\n\u001b[1;32m     72\u001b[0m \n\u001b[1;32m     73\u001b[0m \u001b[38;5;124;03mParameters\u001b[39;00m\n\u001b[0;32m   (...)\u001b[0m\n\u001b[1;32m     90\u001b[0m \u001b[38;5;124;03m    A list of auxiliary diagnostic information dicts from sub-environments.\u001b[39;00m\n\u001b[1;32m     91\u001b[0m \u001b[38;5;124;03m\"\"\"\u001b[39;00m\n\u001b[1;32m     93\u001b[0m \u001b[38;5;28mself\u001b[39m\u001b[38;5;241m.\u001b[39mstep_async(actions)\n\u001b[0;32m---> 94\u001b[0m \u001b[38;5;28;01mreturn\u001b[39;00m \u001b[38;5;28;43mself\u001b[39;49m\u001b[38;5;241;43m.\u001b[39;49m\u001b[43mstep_wait\u001b[49m\u001b[43m(\u001b[49m\u001b[43m)\u001b[49m\n",
      "File \u001b[0;32m~/Desktop/awe/diffusion_policy/diffusion_policy/gym_util/async_vector_env.py:290\u001b[0m, in \u001b[0;36mAsyncVectorEnv.step_wait\u001b[0;34m(self, timeout)\u001b[0m\n\u001b[1;32m    284\u001b[0m     \u001b[38;5;28mself\u001b[39m\u001b[38;5;241m.\u001b[39m_state \u001b[38;5;241m=\u001b[39m AsyncState\u001b[38;5;241m.\u001b[39mDEFAULT\n\u001b[1;32m    285\u001b[0m     \u001b[38;5;28;01mraise\u001b[39;00m mp\u001b[38;5;241m.\u001b[39mTimeoutError(\n\u001b[1;32m    286\u001b[0m         \u001b[38;5;124m\"\u001b[39m\u001b[38;5;124mThe call to `step_wait` has timed out after \u001b[39m\u001b[38;5;124m\"\u001b[39m\n\u001b[1;32m    287\u001b[0m         \u001b[38;5;124m\"\u001b[39m\u001b[38;5;132;01m{0}\u001b[39;00m\u001b[38;5;124m second\u001b[39m\u001b[38;5;132;01m{1}\u001b[39;00m\u001b[38;5;124m.\u001b[39m\u001b[38;5;124m\"\u001b[39m\u001b[38;5;241m.\u001b[39mformat(timeout, \u001b[38;5;124m\"\u001b[39m\u001b[38;5;124ms\u001b[39m\u001b[38;5;124m\"\u001b[39m \u001b[38;5;28;01mif\u001b[39;00m timeout \u001b[38;5;241m>\u001b[39m \u001b[38;5;241m1\u001b[39m \u001b[38;5;28;01melse\u001b[39;00m \u001b[38;5;124m\"\u001b[39m\u001b[38;5;124m\"\u001b[39m)\n\u001b[1;32m    288\u001b[0m     )\n\u001b[0;32m--> 290\u001b[0m results, successes \u001b[38;5;241m=\u001b[39m \u001b[38;5;28mzip\u001b[39m(\u001b[38;5;241m*\u001b[39m[pipe\u001b[38;5;241m.\u001b[39mrecv() \u001b[38;5;28;01mfor\u001b[39;00m pipe \u001b[38;5;129;01min\u001b[39;00m \u001b[38;5;28mself\u001b[39m\u001b[38;5;241m.\u001b[39mparent_pipes])\n\u001b[1;32m    291\u001b[0m \u001b[38;5;28mself\u001b[39m\u001b[38;5;241m.\u001b[39m_raise_if_errors(successes)\n\u001b[1;32m    292\u001b[0m \u001b[38;5;28mself\u001b[39m\u001b[38;5;241m.\u001b[39m_state \u001b[38;5;241m=\u001b[39m AsyncState\u001b[38;5;241m.\u001b[39mDEFAULT\n",
      "File \u001b[0;32m~/Desktop/awe/diffusion_policy/diffusion_policy/gym_util/async_vector_env.py:290\u001b[0m, in \u001b[0;36m<listcomp>\u001b[0;34m(.0)\u001b[0m\n\u001b[1;32m    284\u001b[0m     \u001b[38;5;28mself\u001b[39m\u001b[38;5;241m.\u001b[39m_state \u001b[38;5;241m=\u001b[39m AsyncState\u001b[38;5;241m.\u001b[39mDEFAULT\n\u001b[1;32m    285\u001b[0m     \u001b[38;5;28;01mraise\u001b[39;00m mp\u001b[38;5;241m.\u001b[39mTimeoutError(\n\u001b[1;32m    286\u001b[0m         \u001b[38;5;124m\"\u001b[39m\u001b[38;5;124mThe call to `step_wait` has timed out after \u001b[39m\u001b[38;5;124m\"\u001b[39m\n\u001b[1;32m    287\u001b[0m         \u001b[38;5;124m\"\u001b[39m\u001b[38;5;132;01m{0}\u001b[39;00m\u001b[38;5;124m second\u001b[39m\u001b[38;5;132;01m{1}\u001b[39;00m\u001b[38;5;124m.\u001b[39m\u001b[38;5;124m\"\u001b[39m\u001b[38;5;241m.\u001b[39mformat(timeout, \u001b[38;5;124m\"\u001b[39m\u001b[38;5;124ms\u001b[39m\u001b[38;5;124m\"\u001b[39m \u001b[38;5;28;01mif\u001b[39;00m timeout \u001b[38;5;241m>\u001b[39m \u001b[38;5;241m1\u001b[39m \u001b[38;5;28;01melse\u001b[39;00m \u001b[38;5;124m\"\u001b[39m\u001b[38;5;124m\"\u001b[39m)\n\u001b[1;32m    288\u001b[0m     )\n\u001b[0;32m--> 290\u001b[0m results, successes \u001b[38;5;241m=\u001b[39m \u001b[38;5;28mzip\u001b[39m(\u001b[38;5;241m*\u001b[39m[\u001b[43mpipe\u001b[49m\u001b[38;5;241;43m.\u001b[39;49m\u001b[43mrecv\u001b[49m\u001b[43m(\u001b[49m\u001b[43m)\u001b[49m \u001b[38;5;28;01mfor\u001b[39;00m pipe \u001b[38;5;129;01min\u001b[39;00m \u001b[38;5;28mself\u001b[39m\u001b[38;5;241m.\u001b[39mparent_pipes])\n\u001b[1;32m    291\u001b[0m \u001b[38;5;28mself\u001b[39m\u001b[38;5;241m.\u001b[39m_raise_if_errors(successes)\n\u001b[1;32m    292\u001b[0m \u001b[38;5;28mself\u001b[39m\u001b[38;5;241m.\u001b[39m_state \u001b[38;5;241m=\u001b[39m AsyncState\u001b[38;5;241m.\u001b[39mDEFAULT\n",
      "File \u001b[0;32m~/anaconda3/envs/robodiff/lib/python3.9/multiprocessing/connection.py:250\u001b[0m, in \u001b[0;36m_ConnectionBase.recv\u001b[0;34m(self)\u001b[0m\n\u001b[1;32m    248\u001b[0m \u001b[38;5;28mself\u001b[39m\u001b[38;5;241m.\u001b[39m_check_closed()\n\u001b[1;32m    249\u001b[0m \u001b[38;5;28mself\u001b[39m\u001b[38;5;241m.\u001b[39m_check_readable()\n\u001b[0;32m--> 250\u001b[0m buf \u001b[38;5;241m=\u001b[39m \u001b[38;5;28;43mself\u001b[39;49m\u001b[38;5;241;43m.\u001b[39;49m\u001b[43m_recv_bytes\u001b[49m\u001b[43m(\u001b[49m\u001b[43m)\u001b[49m\n\u001b[1;32m    251\u001b[0m \u001b[38;5;28;01mreturn\u001b[39;00m _ForkingPickler\u001b[38;5;241m.\u001b[39mloads(buf\u001b[38;5;241m.\u001b[39mgetbuffer())\n",
      "File \u001b[0;32m~/anaconda3/envs/robodiff/lib/python3.9/multiprocessing/connection.py:414\u001b[0m, in \u001b[0;36mConnection._recv_bytes\u001b[0;34m(self, maxsize)\u001b[0m\n\u001b[1;32m    413\u001b[0m \u001b[38;5;28;01mdef\u001b[39;00m\u001b[38;5;250m \u001b[39m\u001b[38;5;21m_recv_bytes\u001b[39m(\u001b[38;5;28mself\u001b[39m, maxsize\u001b[38;5;241m=\u001b[39m\u001b[38;5;28;01mNone\u001b[39;00m):\n\u001b[0;32m--> 414\u001b[0m     buf \u001b[38;5;241m=\u001b[39m \u001b[38;5;28;43mself\u001b[39;49m\u001b[38;5;241;43m.\u001b[39;49m\u001b[43m_recv\u001b[49m\u001b[43m(\u001b[49m\u001b[38;5;241;43m4\u001b[39;49m\u001b[43m)\u001b[49m\n\u001b[1;32m    415\u001b[0m     size, \u001b[38;5;241m=\u001b[39m struct\u001b[38;5;241m.\u001b[39munpack(\u001b[38;5;124m\"\u001b[39m\u001b[38;5;124m!i\u001b[39m\u001b[38;5;124m\"\u001b[39m, buf\u001b[38;5;241m.\u001b[39mgetvalue())\n\u001b[1;32m    416\u001b[0m     \u001b[38;5;28;01mif\u001b[39;00m size \u001b[38;5;241m==\u001b[39m \u001b[38;5;241m-\u001b[39m\u001b[38;5;241m1\u001b[39m:\n",
      "File \u001b[0;32m~/anaconda3/envs/robodiff/lib/python3.9/multiprocessing/connection.py:379\u001b[0m, in \u001b[0;36mConnection._recv\u001b[0;34m(self, size, read)\u001b[0m\n\u001b[1;32m    377\u001b[0m remaining \u001b[38;5;241m=\u001b[39m size\n\u001b[1;32m    378\u001b[0m \u001b[38;5;28;01mwhile\u001b[39;00m remaining \u001b[38;5;241m>\u001b[39m \u001b[38;5;241m0\u001b[39m:\n\u001b[0;32m--> 379\u001b[0m     chunk \u001b[38;5;241m=\u001b[39m \u001b[43mread\u001b[49m\u001b[43m(\u001b[49m\u001b[43mhandle\u001b[49m\u001b[43m,\u001b[49m\u001b[43m \u001b[49m\u001b[43mremaining\u001b[49m\u001b[43m)\u001b[49m\n\u001b[1;32m    380\u001b[0m     n \u001b[38;5;241m=\u001b[39m \u001b[38;5;28mlen\u001b[39m(chunk)\n\u001b[1;32m    381\u001b[0m     \u001b[38;5;28;01mif\u001b[39;00m n \u001b[38;5;241m==\u001b[39m \u001b[38;5;241m0\u001b[39m:\n",
      "\u001b[0;31mKeyboardInterrupt\u001b[0m: "
     ]
    },
    {
     "name": "stderr",
     "output_type": "stream",
     "text": [
      "Eval PickPlaceCanImage 1/50:  12%|█▏        | 24/200 [00:19<00:39,  4.51it/s]"
     ]
    }
   ],
   "source": [
    "# Load the environment runner from the config\n",
    "cfg[\"task\"][\"env_runner\"][\"n_envs\"] = 1  # Set num_envs to 1\n",
    "cfg[\"task\"][\"env_runner\"][\"n_test_vis\"] = 1 # visualise 1 test\n",
    "env_runner = hydra.utils.instantiate(cfg[\"task\"][\"env_runner\"], output_dir=\"rollout_outputs\")\n",
    "# run roll out and save vid \n",
    "env_runner.run(policy)\n"
   ]
  }
 ],
 "metadata": {
  "kernelspec": {
   "display_name": "robodiff",
   "language": "python",
   "name": "python3"
  },
  "language_info": {
   "codemirror_mode": {
    "name": "ipython",
    "version": 3
   },
   "file_extension": ".py",
   "mimetype": "text/x-python",
   "name": "python",
   "nbconvert_exporter": "python",
   "pygments_lexer": "ipython3",
   "version": "3.9.18"
  }
 },
 "nbformat": 4,
 "nbformat_minor": 2
}
