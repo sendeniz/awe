{
 "cells": [
  {
   "cell_type": "code",
   "execution_count": 1,
   "metadata": {},
   "outputs": [
    {
     "name": "stderr",
     "output_type": "stream",
     "text": [
      "/home/sen/anaconda3/envs/robodiff/lib/python3.9/site-packages/tqdm/auto.py:22: TqdmWarning: IProgress not found. Please update jupyter and ipywidgets. See https://ipywidgets.readthedocs.io/en/stable/user_install.html\n",
      "  from .autonotebook import tqdm as notebook_tqdm\n"
     ]
    },
    {
     "name": "stdout",
     "output_type": "stream",
     "text": [
      "WARNING: could not load d4rl environments!\n"
     ]
    }
   ],
   "source": [
    "import argparse\n",
    "import json\n",
    "import h5py\n",
    "import imageio\n",
    "import numpy as np\n",
    "import os\n",
    "from copy import deepcopy\n",
    "import pprint\n",
    "\n",
    "import torch\n",
    "\n",
    "import robomimic\n",
    "import robomimic.utils.file_utils as FileUtils\n",
    "import robomimic.utils.torch_utils as TorchUtils\n",
    "import robomimic.utils.tensor_utils as TensorUtils\n",
    "import robomimic.utils.obs_utils as ObsUtils\n",
    "from robomimic.envs.env_base import EnvBase\n",
    "from robomimic.algo import RolloutPolicy\n",
    "\n",
    "from robomimic.envs.env_gym import EnvGym\n",
    "import robosuite as suite\n",
    "\n",
    "from robosuite.wrappers import GymWrapper\n",
    "from robosuite.controllers import load_controller_config\n",
    "import matplotlib.pyplot as plt\n",
    "\n",
    "import urllib.request\n",
    "\n",
    "from diffusion_policy.policy.diffusion_transformer_lowdim_policy import DiffusionTransformerLowdimPolicy\n",
    "import hydra\n",
    "from omegaconf import OmegaConf\n",
    "\n",
    "from diffusion_policy.policy.diffusion_transformer_hybrid_image_policy import DiffusionTransformerHybridImagePolicy\n",
    "from diffusers.schedulers.scheduling_ddpm import DDPMScheduler\n",
    "from diffusion_policy.model.diffusion.ema_model import EMAModel\n",
    "\n",
    "from diffusion_policy.env_runner.base_image_runner import BaseImageRunner\n",
    "import os\n",
    "import json\n",
    "import cv2\n",
    "\n",
    "\n",
    "device = torch.device(\"cuda\" if torch.cuda.is_available() else \"cpu\")\n"
   ]
  },
  {
   "cell_type": "markdown",
   "metadata": {},
   "source": [
    "### Load checkpoint"
   ]
  },
  {
   "cell_type": "code",
   "execution_count": 2,
   "metadata": {},
   "outputs": [
    {
     "name": "stdout",
     "output_type": "stream",
     "text": [
      "/home/sen/Desktop/awe\n"
     ]
    }
   ],
   "source": [
    "cd .."
   ]
  },
  {
   "cell_type": "code",
   "execution_count": 3,
   "metadata": {},
   "outputs": [],
   "source": [
    "ckpt_path = \"ckpts/square_awe_diffusion.ckpt\"\n",
    "ckpt = torch.load(ckpt_path, map_location=device)\n",
    "assert os.path.exists(ckpt_path)"
   ]
  },
  {
   "cell_type": "markdown",
   "metadata": {},
   "source": [
    "### Load config"
   ]
  },
  {
   "cell_type": "code",
   "execution_count": 4,
   "metadata": {},
   "outputs": [
    {
     "name": "stdout",
     "output_type": "stream",
     "text": [
      "\n",
      "============= Initialized Observation Utils with Obs Spec =============\n",
      "\n",
      "using obs modality: low_dim with keys: ['robot0_gripper_qpos', 'robot0_eef_quat', 'robot0_eef_pos']\n",
      "using obs modality: rgb with keys: ['robot0_eye_in_hand_image', 'agentview_image']\n",
      "using obs modality: depth with keys: []\n",
      "using obs modality: scan with keys: []\n"
     ]
    },
    {
     "name": "stderr",
     "output_type": "stream",
     "text": [
      "/home/sen/anaconda3/envs/robodiff/lib/python3.9/site-packages/torchvision/models/_utils.py:208: UserWarning: The parameter 'pretrained' is deprecated since 0.13 and will be removed in 0.15, please use 'weights' instead.\n",
      "  warnings.warn(\n",
      "/home/sen/anaconda3/envs/robodiff/lib/python3.9/site-packages/torchvision/models/_utils.py:223: UserWarning: Arguments other than a weight enum or `None` for 'weights' are deprecated since 0.13 and will be removed in 0.15. The current behavior is equivalent to passing `weights=None`.\n",
      "  warnings.warn(msg)\n"
     ]
    },
    {
     "name": "stdout",
     "output_type": "stream",
     "text": [
      "Model is initialized and ready for evaluation.\n"
     ]
    }
   ],
   "source": [
    "\n",
    "# Load the YAML configuration using OmegaConf\n",
    "# You can use either a) awe + diffusion policy transformer \n",
    "# or b) diffusion poluciy transformer without awe \n",
    "# a) uses \"config/waypoint_image_can_ph_diffusion_policy_transformer.yaml\"\n",
    "# b) uses \"config/baseline_image_can_ph_diffusion_policy_transformer.yaml\"\n",
    "\n",
    "#cfg = OmegaConf.load(\"config/baseline_image_can_ph_diffusion_policy_transformer.yaml\")\n",
    "\n",
    "cfg = OmegaConf.load(\"config/waypoint_image_square_ph_diffusion_policy_transformer.yaml\")\n",
    "\n",
    "OmegaConf.register_new_resolver(\"eval\", eval, replace=True)\n",
    "# Resolve variables like ${horizon}\n",
    "cfg = OmegaConf.to_container(cfg, resolve=True)  # Now it replaces ${horizon} with its actual value\n",
    "\n",
    "policy_cfg = cfg[\"policy\"]  # Now it should have resolved values\n",
    "\n",
    "# Create Noise Scheduler\n",
    "noise_scheduler = DDPMScheduler(\n",
    "    num_train_timesteps=policy_cfg[\"noise_scheduler\"][\"num_train_timesteps\"],\n",
    "    beta_start=policy_cfg[\"noise_scheduler\"][\"beta_start\"],\n",
    "    beta_end=policy_cfg[\"noise_scheduler\"][\"beta_end\"],\n",
    "    beta_schedule=policy_cfg[\"noise_scheduler\"][\"beta_schedule\"],\n",
    "    variance_type=policy_cfg[\"noise_scheduler\"][\"variance_type\"],\n",
    "    clip_sample=policy_cfg[\"noise_scheduler\"][\"clip_sample\"],\n",
    "    prediction_type=policy_cfg[\"noise_scheduler\"][\"prediction_type\"],\n",
    ")\n",
    "\n",
    "# Initialize the policy\n",
    "policy = DiffusionTransformerHybridImagePolicy(\n",
    "    shape_meta=policy_cfg[\"shape_meta\"],\n",
    "    noise_scheduler=noise_scheduler,\n",
    "    horizon=int(policy_cfg[\"horizon\"]),  # Ensure it's an integer\n",
    "    n_action_steps=int(policy_cfg[\"n_action_steps\"]),\n",
    "    n_obs_steps=int(policy_cfg[\"n_obs_steps\"]),\n",
    "    num_inference_steps=int(policy_cfg[\"num_inference_steps\"]),\n",
    "    crop_shape=tuple(map(int, policy_cfg[\"crop_shape\"])),  # Convert tuple elements to int\n",
    "    obs_encoder_group_norm=policy_cfg[\"obs_encoder_group_norm\"],\n",
    "    eval_fixed_crop=policy_cfg[\"eval_fixed_crop\"],\n",
    "    n_layer=int(policy_cfg[\"n_layer\"]),\n",
    "    n_cond_layers=int(policy_cfg[\"n_cond_layers\"]),\n",
    "    n_head=int(policy_cfg[\"n_head\"]),\n",
    "    n_emb=int(policy_cfg[\"n_emb\"]),\n",
    "    p_drop_emb=float(policy_cfg[\"p_drop_emb\"]),  # Ensure float conversion\n",
    "    p_drop_attn=float(policy_cfg[\"p_drop_attn\"]),\n",
    "    causal_attn=policy_cfg[\"causal_attn\"],\n",
    "    time_as_cond=policy_cfg[\"time_as_cond\"],\n",
    "    obs_as_cond=policy_cfg[\"obs_as_cond\"],\n",
    ")\n",
    "\n",
    "# Set to evaluation mode\n",
    "policy.eval()\n",
    "\n",
    "# load state dict from checkpoint\n",
    "policy.load_state_dict(ckpt[\"state_dicts\"][\"ema_model\"])\n",
    "\n",
    "# Move to GPU if available\n",
    "device = torch.device(\"cuda\" if torch.cuda.is_available() else \"cpu\")\n",
    "policy.to(device)\n",
    "\n",
    "print(\"Model is initialized and ready for evaluation.\")\n"
   ]
  },
  {
   "cell_type": "markdown",
   "metadata": {},
   "source": [
    "### Visualise Rollout\n",
    "Note that changes are made in robomimic_image_runner.py \n",
    "Controller values for example are rewritten there"
   ]
  },
  {
   "cell_type": "code",
   "execution_count": 5,
   "metadata": {},
   "outputs": [
    {
     "name": "stdout",
     "output_type": "stream",
     "text": [
      "env_meta {'env_name': 'NutAssemblySquare', 'type': 1, 'env_kwargs': {'has_renderer': False, 'has_offscreen_renderer': True, 'ignore_done': True, 'use_object_obs': False, 'use_camera_obs': True, 'control_freq': 20, 'controller_configs': {'type': 'OSC_POSE', 'input_max': 1, 'input_min': -1, 'output_max': [0.05, 0.05, 0.05, 0.5, 0.5, 0.5], 'output_min': [-0.05, -0.05, -0.05, -0.5, -0.5, -0.5], 'kp': 1000, 'damping': 1, 'impedance_mode': 'fixed', 'kp_limits': [0, 2000], 'damping_limits': [0, 60], 'position_limits': None, 'orientation_limits': None, 'uncouple_pos_ori': True, 'control_delta': False, 'interpolation': 'linear', 'ramp_ratio': 0.2, 'multiplier': 10}, 'robots': ['Panda'], 'camera_depths': False, 'camera_heights': 84, 'camera_widths': 84, 'reward_shaping': False, 'camera_names': ['agentview', 'robot0_eye_in_hand'], 'render_gpu_device_id': 0}}\n",
      "Created environment with name NutAssemblySquare\n",
      "Action size is 7\n",
      "Found 2 GPUs for rendering. Using device 0.\n",
      "Found 2 GPUs for rendering. Using device 0.\n",
      "Found 2 GPUs for rendering. Using device 0.\n",
      "Found 2 GPUs for rendering. Using device 0.\n",
      "Found 2 GPUs for rendering. Using device 0.\n",
      "Found 2 GPUs for rendering. Using device 0.\n",
      "Found 2 GPUs for rendering. Using device 0.\n",
      "Found 2 GPUs for rendering. Using device 0.\n"
     ]
    },
    {
     "name": "stderr",
     "output_type": "stream",
     "text": [
      "libEGL warning: MESA-LOADER: failed to open vgem: /usr/lib/dri/vgem_dri.so: cannot open shared object file: No such file or directory (search paths /usr/lib/x86_64-linux-gnu/dri:\\$${ORIGIN}/dri:/usr/lib/dri, suffix _dri)\n",
      "\n",
      "libEGL warning: NEEDS EXTENSION: falling back to kms_swrast\n",
      "libEGL warning: MESA-LOADER: failed to open vgem: /usr/lib/dri/vgem_dri.so: cannot open shared object file: No such file or directory (search paths /usr/lib/x86_64-linux-gnu/dri:\\$${ORIGIN}/dri:/usr/lib/dri, suffix _dri)\n",
      "\n",
      "libEGL warning: NEEDS EXTENSION: falling back to kms_swrast\n",
      "libEGL warning: MESA-LOADER: failed to open vgem: /usr/lib/dri/vgem_dri.so: cannot open shared object file: No such file or directory (search paths /usr/lib/x86_64-linux-gnu/dri:\\$${ORIGIN}/dri:/usr/lib/dri, suffix _dri)\n",
      "\n",
      "libEGL warning: NEEDS EXTENSION: falling back to kms_swrast\n",
      "libEGL warning: MESA-LOADER: failed to open vgem: /usr/lib/dri/vgem_dri.so: cannot open shared object file: No such file or directory (search paths /usr/lib/x86_64-linux-gnu/dri:\\$${ORIGIN}/dri:/usr/lib/dri, suffix _dri)\n",
      "\n",
      "libEGL warning: NEEDS EXTENSION: falling back to kms_swrast\n",
      "libEGL warning: MESA-LOADER: failed to open vgem: /usr/lib/dri/vgem_dri.so: cannot open shared object file: No such file or directory (search paths /usr/lib/x86_64-linux-gnu/dri:\\$${ORIGIN}/dri:/usr/lib/dri, suffix _dri)\n",
      "\n",
      "libEGL warning: NEEDS EXTENSION: falling back to kms_swrast\n",
      "libEGL warning: MESA-LOADER: failed to open vgem: /usr/lib/dri/vgem_dri.so: cannot open shared object file: No such file or directory (search paths /usr/lib/x86_64-linux-gnu/dri:\\$${ORIGIN}/dri:/usr/lib/dri, suffix _dri)\n",
      "\n",
      "libEGL warning: NEEDS EXTENSION: falling back to kms_swrast\n",
      "libEGL warning: MESA-LOADER: failed to open vgem: /usr/lib/dri/vgem_dri.so: cannot open shared object file: No such file or directory (search paths /usr/lib/x86_64-linux-gnu/dri:\\$${ORIGIN}/dri:/usr/lib/dri, suffix _dri)\n",
      "\n",
      "libEGL warning: NEEDS EXTENSION: falling back to kms_swrast\n",
      "libEGL warning: MESA-LOADER: failed to open vgem: /usr/lib/dri/vgem_dri.so: cannot open shared object file: No such file or directory (search paths /usr/lib/x86_64-linux-gnu/dri:\\$${ORIGIN}/dri:/usr/lib/dri, suffix _dri)\n",
      "\n",
      "libEGL warning: NEEDS EXTENSION: falling back to kms_swrast\n"
     ]
    },
    {
     "name": "stdout",
     "output_type": "stream",
     "text": [
      "Found 2 GPUs for rendering. Using device 0.\n",
      "Found 2 GPUs for rendering. Using device 0.\n",
      "Found 2 GPUs for rendering. Using device 0.\n",
      "Found 2 GPUs for rendering. Using device 0.\n",
      "Found 2 GPUs for rendering. Using device 0.\n",
      "Found 2 GPUs for rendering. Using device 0.\n",
      "Found 2 GPUs for rendering. Using device 0.\n"
     ]
    },
    {
     "name": "stderr",
     "output_type": "stream",
     "text": [
      "libEGL warning: MESA-LOADER: failed to open vgem: /usr/lib/dri/vgem_dri.so: cannot open shared object file: No such file or directory (search paths /usr/lib/x86_64-linux-gnu/dri:\\$${ORIGIN}/dri:/usr/lib/dri, suffix _dri)\n",
      "\n",
      "libEGL warning: NEEDS EXTENSION: falling back to kms_swrast\n",
      "libEGL warning: MESA-LOADER: failed to open vgem: /usr/lib/dri/vgem_dri.so: cannot open shared object file: No such file or directory (search paths /usr/lib/x86_64-linux-gnu/dri:\\$${ORIGIN}/dri:/usr/lib/dri, suffix _dri)\n",
      "\n",
      "libEGL warning: NEEDS EXTENSION: falling back to kms_swrast\n",
      "libEGL warning: MESA-LOADER: failed to open vgem: /usr/lib/dri/vgem_dri.so: cannot open shared object file: No such file or directory (search paths /usr/lib/x86_64-linux-gnu/dri:\\$${ORIGIN}/dri:/usr/lib/dri, suffix _dri)\n",
      "\n",
      "libEGL warning: NEEDS EXTENSION: falling back to kms_swrast\n",
      "libEGL warning: MESA-LOADER: failed to open vgem: /usr/lib/dri/vgem_dri.so: cannot open shared object file: No such file or directory (search paths /usr/lib/x86_64-linux-gnu/dri:\\$${ORIGIN}/dri:/usr/lib/dri, suffix _dri)\n",
      "\n",
      "libEGL warning: NEEDS EXTENSION: falling back to kms_swrast\n",
      "libEGL warning: MESA-LOADER: failed to open vgem: /usr/lib/dri/vgem_dri.so: cannot open shared object file: No such file or directory (search paths /usr/lib/x86_64-linux-gnu/dri:\\$${ORIGIN}/dri:/usr/lib/dri, suffix _dri)\n",
      "\n",
      "libEGL warning: NEEDS EXTENSION: falling back to kms_swrast\n",
      "libEGL warning: MESA-LOADER: failed to open vgem: /usr/lib/dri/vgem_dri.so: cannot open shared object file: No such file or directory (search paths /usr/lib/x86_64-linux-gnu/dri:\\$${ORIGIN}/dri:/usr/lib/dri, suffix _dri)\n",
      "\n",
      "libEGL warning: NEEDS EXTENSION: falling back to kms_swrast\n",
      "libEGL warning: MESA-LOADER: failed to open vgem: /usr/lib/dri/vgem_dri.so: cannot open shared object file: No such file or directory (search paths /usr/lib/x86_64-linux-gnu/dri:\\$${ORIGIN}/dri:/usr/lib/dri, suffix _dri)\n",
      "\n",
      "libEGL warning: NEEDS EXTENSION: falling back to kms_swrast\n"
     ]
    },
    {
     "name": "stdout",
     "output_type": "stream",
     "text": [
      "Found 2 GPUs for rendering. Using device 0.\n"
     ]
    },
    {
     "name": "stderr",
     "output_type": "stream",
     "text": [
      "libEGL warning: MESA-LOADER: failed to open vgem: /usr/lib/dri/vgem_dri.so: cannot open shared object file: No such file or directory (search paths /usr/lib/x86_64-linux-gnu/dri:\\$${ORIGIN}/dri:/usr/lib/dri, suffix _dri)\n",
      "\n",
      "libEGL warning: NEEDS EXTENSION: falling back to kms_swrast\n"
     ]
    },
    {
     "name": "stdout",
     "output_type": "stream",
     "text": [
      "Created environment with name NutAssemblySquare\n",
      "Created environment with name NutAssemblySquare\n",
      "Action size is 7Action size is 7\n",
      "\n",
      "Created environment with name NutAssemblySquare\n",
      "Created environment with name NutAssemblySquareAction size is 7Created environment with name NutAssemblySquare\n",
      "\n",
      "\n",
      "Action size is 7Created environment with name NutAssemblySquareAction size is 7\n",
      "\n",
      "Action size is 7\n",
      "\n",
      "Created environment with name NutAssemblySquare\n",
      "Created environment with name NutAssemblySquareAction size is 7\n",
      "\n",
      "Action size is 7\n",
      "Created environment with name NutAssemblySquare\n",
      "Action size is 7\n",
      "Created environment with name NutAssemblySquare\n",
      "Created environment with name NutAssemblySquareAction size is 7Created environment with name NutAssemblySquare\n",
      "\n",
      "Action size is 7\n",
      "\n",
      "Action size is 7\n",
      "Created environment with name NutAssemblySquare\n",
      "Action size is 7\n",
      "Created environment with name NutAssemblySquare\n",
      "Action size is 7\n",
      "Created environment with name NutAssemblySquare\n",
      "Action size is 7\n",
      "Created environment with name NutAssemblySquare\n",
      "Action size is 7\n"
     ]
    },
    {
     "name": "stderr",
     "output_type": "stream",
     "text": [
      "                                                                                  \r"
     ]
    },
    {
     "name": "stdout",
     "output_type": "stream",
     "text": [
      "Mean reward: [0.1475], Mean 3D error: 0.01827270638823011, Success rate 31.25:\n"
     ]
    },
    {
     "data": {
      "text/plain": [
       "{'test/sim_max_reward_100000': 0.0,\n",
       " 'test/sim_video_100000': <wandb.sdk.data_types.video.Video at 0x7fd5a5bd4790>,\n",
       " 'test/sim_max_reward_100001': 0.0,\n",
       " 'test/sim_video_100001': <wandb.sdk.data_types.video.Video at 0x7fd585296c40>,\n",
       " 'test/sim_max_reward_100002': 1.0,\n",
       " 'test/sim_video_100002': <wandb.sdk.data_types.video.Video at 0x7fd5256bc910>,\n",
       " 'test/sim_max_reward_100003': 0.0,\n",
       " 'test/sim_video_100003': <wandb.sdk.data_types.video.Video at 0x7fd5256bc940>,\n",
       " 'test/sim_max_reward_100004': 0.0,\n",
       " 'test/sim_video_100004': <wandb.sdk.data_types.video.Video at 0x7fd5256bc820>,\n",
       " 'test/sim_max_reward_100005': 1.0,\n",
       " 'test/sim_video_100005': <wandb.sdk.data_types.video.Video at 0x7fd5256bc850>,\n",
       " 'test/sim_max_reward_100006': 0.0,\n",
       " 'test/sim_video_100006': <wandb.sdk.data_types.video.Video at 0x7fd5256bc970>,\n",
       " 'test/sim_max_reward_100007': 1.0,\n",
       " 'test/sim_video_100007': <wandb.sdk.data_types.video.Video at 0x7fd5256bc9a0>,\n",
       " 'test/sim_max_reward_100008': 1.0,\n",
       " 'test/sim_video_100008': <wandb.sdk.data_types.video.Video at 0x7fd5256bc9d0>,\n",
       " 'test/sim_max_reward_100009': 0.0,\n",
       " 'test/sim_video_100009': <wandb.sdk.data_types.video.Video at 0x7fd5256bca00>,\n",
       " 'test/sim_max_reward_100010': 0.0,\n",
       " 'test/sim_video_100010': <wandb.sdk.data_types.video.Video at 0x7fd5256bca30>,\n",
       " 'test/sim_max_reward_100011': 0.0,\n",
       " 'test/sim_video_100011': <wandb.sdk.data_types.video.Video at 0x7fd5256bca60>,\n",
       " 'test/sim_max_reward_100012': 0.0,\n",
       " 'test/sim_video_100012': <wandb.sdk.data_types.video.Video at 0x7fd5256bca90>,\n",
       " 'test/sim_max_reward_100013': 0.0,\n",
       " 'test/sim_video_100013': <wandb.sdk.data_types.video.Video at 0x7fd5256bcac0>,\n",
       " 'test/sim_max_reward_100014': 0.0,\n",
       " 'test/sim_video_100014': <wandb.sdk.data_types.video.Video at 0x7fd5256bcaf0>,\n",
       " 'test/sim_max_reward_100015': 1.0,\n",
       " 'test/sim_video_100015': <wandb.sdk.data_types.video.Video at 0x7fd5256bcb20>,\n",
       " 'test/mean_score': 0.3125}"
      ]
     },
     "execution_count": 5,
     "metadata": {},
     "output_type": "execute_result"
    }
   ],
   "source": [
    "cfg[\"task\"][\"env_runner\"][\"n_envs\"] = 16  # Set num_envs to 1\n",
    "cfg[\"task\"][\"env_runner\"][\"n_test_vis\"] = 16 # visualise 1 test\n",
    "cfg[\"task\"][\"env_runner\"][\"n_test\"] = 16 # 1 test\n",
    "env_runner = hydra.utils.instantiate(cfg[\"task\"][\"env_runner\"], output_dir=\"\")\n",
    "# run roll out and save vid \n",
    "env_runner.run(policy)"
   ]
  }
 ],
 "metadata": {
  "kernelspec": {
   "display_name": "robodiff",
   "language": "python",
   "name": "python3"
  },
  "language_info": {
   "codemirror_mode": {
    "name": "ipython",
    "version": 3
   },
   "file_extension": ".py",
   "mimetype": "text/x-python",
   "name": "python",
   "nbconvert_exporter": "python",
   "pygments_lexer": "ipython3",
   "version": "3.9.18"
  }
 },
 "nbformat": 4,
 "nbformat_minor": 2
}
