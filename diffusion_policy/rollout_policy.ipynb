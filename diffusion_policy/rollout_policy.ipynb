{
 "cells": [
  {
   "cell_type": "code",
   "execution_count": 1,
   "metadata": {},
   "outputs": [
    {
     "name": "stderr",
     "output_type": "stream",
     "text": [
      "/home/deniz/miniforge3/envs/robodiff/lib/python3.9/site-packages/tqdm/auto.py:22: TqdmWarning: IProgress not found. Please update jupyter and ipywidgets. See https://ipywidgets.readthedocs.io/en/stable/user_install.html\n",
      "  from .autonotebook import tqdm as notebook_tqdm\n"
     ]
    }
   ],
   "source": [
    "import argparse\n",
    "import json\n",
    "import h5py\n",
    "import imageio\n",
    "import numpy as np\n",
    "import os\n",
    "from copy import deepcopy\n",
    "\n",
    "import torch\n",
    "\n",
    "import robomimic\n",
    "import robomimic.utils.file_utils as FileUtils\n",
    "import robomimic.utils.torch_utils as TorchUtils\n",
    "import robomimic.utils.tensor_utils as TensorUtils\n",
    "import robomimic.utils.obs_utils as ObsUtils\n",
    "from robomimic.envs.env_base import EnvBase\n",
    "from robomimic.algo import RolloutPolicy\n",
    "\n",
    "import urllib.request"
   ]
  },
  {
   "cell_type": "code",
   "execution_count": 2,
   "metadata": {},
   "outputs": [
    {
     "name": "stdout",
     "output_type": "stream",
     "text": [
      "/home/deniz/Desktop/awe\n"
     ]
    }
   ],
   "source": [
    "cd .."
   ]
  },
  {
   "cell_type": "code",
   "execution_count": 6,
   "metadata": {},
   "outputs": [],
   "source": [
    "ckpt_path = \"data/outputs/2025.01.22/14.55.19_train_diffusion_transformer_hybrid_can_image/checkpoints/latest.ckpt\"\n",
    "ckpt = torch.load(ckpt_path, map_location=\"cuda:0\")\n",
    "assert os.path.exists(ckpt_path)"
   ]
  },
  {
   "cell_type": "code",
   "execution_count": 7,
   "metadata": {},
   "outputs": [
    {
     "ename": "KeyError",
     "evalue": "'algo_name'",
     "output_type": "error",
     "traceback": [
      "\u001b[0;31m---------------------------------------------------------------------------\u001b[0m",
      "\u001b[0;31mKeyError\u001b[0m                                  Traceback (most recent call last)",
      "Cell \u001b[0;32mIn[7], line 4\u001b[0m\n\u001b[1;32m      1\u001b[0m device \u001b[38;5;241m=\u001b[39m TorchUtils\u001b[38;5;241m.\u001b[39mget_torch_device(try_to_use_cuda\u001b[38;5;241m=\u001b[39m\u001b[38;5;28;01mTrue\u001b[39;00m)\n\u001b[1;32m      3\u001b[0m \u001b[38;5;66;03m# restore policy\u001b[39;00m\n\u001b[0;32m----> 4\u001b[0m policy, ckpt_dict \u001b[38;5;241m=\u001b[39m \u001b[43mFileUtils\u001b[49m\u001b[38;5;241;43m.\u001b[39;49m\u001b[43mpolicy_from_checkpoint\u001b[49m\u001b[43m(\u001b[49m\u001b[43mckpt_path\u001b[49m\u001b[38;5;241;43m=\u001b[39;49m\u001b[43mckpt_path\u001b[49m\u001b[43m,\u001b[49m\u001b[43m \u001b[49m\u001b[43mdevice\u001b[49m\u001b[38;5;241;43m=\u001b[39;49m\u001b[43mdevice\u001b[49m\u001b[43m,\u001b[49m\u001b[43m \u001b[49m\u001b[43mverbose\u001b[49m\u001b[38;5;241;43m=\u001b[39;49m\u001b[38;5;28;43;01mTrue\u001b[39;49;00m\u001b[43m)\u001b[49m\n",
      "File \u001b[0;32m~/Desktop/awe/robomimic/robomimic/utils/file_utils.py:362\u001b[0m, in \u001b[0;36mpolicy_from_checkpoint\u001b[0;34m(device, ckpt_path, ckpt_dict, verbose)\u001b[0m\n\u001b[1;32m    359\u001b[0m ckpt_dict \u001b[38;5;241m=\u001b[39m maybe_dict_from_checkpoint(ckpt_path\u001b[38;5;241m=\u001b[39mckpt_path, ckpt_dict\u001b[38;5;241m=\u001b[39mckpt_dict)\n\u001b[1;32m    361\u001b[0m \u001b[38;5;66;03m# algo name and config from model dict\u001b[39;00m\n\u001b[0;32m--> 362\u001b[0m algo_name, _ \u001b[38;5;241m=\u001b[39m \u001b[43malgo_name_from_checkpoint\u001b[49m\u001b[43m(\u001b[49m\u001b[43mckpt_dict\u001b[49m\u001b[38;5;241;43m=\u001b[39;49m\u001b[43mckpt_dict\u001b[49m\u001b[43m)\u001b[49m\n\u001b[1;32m    363\u001b[0m config, _ \u001b[38;5;241m=\u001b[39m config_from_checkpoint(\n\u001b[1;32m    364\u001b[0m     algo_name\u001b[38;5;241m=\u001b[39malgo_name, ckpt_dict\u001b[38;5;241m=\u001b[39mckpt_dict, verbose\u001b[38;5;241m=\u001b[39mverbose\n\u001b[1;32m    365\u001b[0m )\n\u001b[1;32m    367\u001b[0m \u001b[38;5;66;03m# read config to set up metadata for observation modalities (e.g. detecting rgb observations)\u001b[39;00m\n",
      "File \u001b[0;32m~/Desktop/awe/robomimic/robomimic/utils/file_utils.py:204\u001b[0m, in \u001b[0;36malgo_name_from_checkpoint\u001b[0;34m(ckpt_path, ckpt_dict)\u001b[0m\n\u001b[1;32m    197\u001b[0m \u001b[38;5;66;03m#print(f\"Checkpoint dickt:\", ckpt_dict.keys())\u001b[39;00m\n\u001b[1;32m    198\u001b[0m \u001b[38;5;66;03m#print(f\"Checkpoint dickt:\", ckpt_dict[\"cfg\"])\u001b[39;00m\n\u001b[1;32m    199\u001b[0m \u001b[38;5;66;03m#print(f\"Checkpoint state dict:\", ckpt_dict[\"state_dicts\"])\u001b[39;00m\n\u001b[1;32m    200\u001b[0m \u001b[38;5;66;03m#print(f\"Checkpoint pickle:\", ckpt_dict[\"pickles\"])\u001b[39;00m\n\u001b[1;32m    203\u001b[0m ckpt_dict \u001b[38;5;241m=\u001b[39m maybe_dict_from_checkpoint(ckpt_path\u001b[38;5;241m=\u001b[39mckpt_path, ckpt_dict\u001b[38;5;241m=\u001b[39mckpt_dict)\n\u001b[0;32m--> 204\u001b[0m algo_name \u001b[38;5;241m=\u001b[39m \u001b[43mckpt_dict\u001b[49m\u001b[43m[\u001b[49m\u001b[38;5;124;43m\"\u001b[39;49m\u001b[38;5;124;43malgo_name\u001b[39;49m\u001b[38;5;124;43m\"\u001b[39;49m\u001b[43m]\u001b[49m\n\u001b[1;32m    206\u001b[0m \u001b[38;5;28;01mreturn\u001b[39;00m algo_name, ckpt_dict\n",
      "\u001b[0;31mKeyError\u001b[0m: 'algo_name'"
     ]
    }
   ],
   "source": [
    "device = TorchUtils.get_torch_device(try_to_use_cuda=True)\n",
    "\n",
    "# restore policy\n",
    "policy, ckpt_dict = FileUtils.policy_from_checkpoint(ckpt_path=ckpt_path, device=device, verbose=True)"
   ]
  }
 ],
 "metadata": {
  "kernelspec": {
   "display_name": "robodiff",
   "language": "python",
   "name": "python3"
  },
  "language_info": {
   "codemirror_mode": {
    "name": "ipython",
    "version": 3
   },
   "file_extension": ".py",
   "mimetype": "text/x-python",
   "name": "python",
   "nbconvert_exporter": "python",
   "pygments_lexer": "ipython3",
   "version": "3.9.15"
  }
 },
 "nbformat": 4,
 "nbformat_minor": 2
}
